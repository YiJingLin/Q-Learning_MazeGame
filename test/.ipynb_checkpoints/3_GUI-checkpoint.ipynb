{
 "cells": [
  {
   "cell_type": "code",
   "execution_count": 7,
   "metadata": {
    "collapsed": true
   },
   "outputs": [],
   "source": [
    "import tkinter as tk"
   ]
  },
  {
   "cell_type": "markdown",
   "metadata": {},
   "source": [
    "# window definition"
   ]
  },
  {
   "cell_type": "code",
   "execution_count": 8,
   "metadata": {},
   "outputs": [
    {
     "data": {
      "text/plain": [
       "''"
      ]
     },
     "execution_count": 8,
     "metadata": {},
     "output_type": "execute_result"
    }
   ],
   "source": [
    "mainX = 800; mainY = 100\n",
    "\n",
    "# main window \n",
    "height = 300\n",
    "width = 300\n",
    "sizeMain = '%sx%s+%s+%s' % (height, width, mainX, mainY)\n",
    "\n",
    "windowMain = tk.Tk()\n",
    "windowMain.title('Main')\n",
    "windowMain.geometry(sizeMain)"
   ]
  },
  {
   "cell_type": "code",
   "execution_count": 9,
   "metadata": {},
   "outputs": [
    {
     "data": {
      "text/plain": [
       "''"
      ]
     },
     "execution_count": 9,
     "metadata": {},
     "output_type": "execute_result"
    }
   ],
   "source": [
    "mazeX = 800; mazeY=450\n",
    "# maze window\n",
    "height = 300\n",
    "width = 300\n",
    "sizeMaze = '%sx%s+%s+%s' % (height, width, mazeX, mazeY)\n",
    "\n",
    "windowMaze = tk.Tk()\n",
    "windowMaze.title('Maze')\n",
    "windowMaze.geometry(sizeMaze)"
   ]
  },
  {
   "cell_type": "code",
   "execution_count": 10,
   "metadata": {},
   "outputs": [
    {
     "data": {
      "text/plain": [
       "''"
      ]
     },
     "execution_count": 10,
     "metadata": {},
     "output_type": "execute_result"
    }
   ],
   "source": [
    "qX = 100; qY=100\n",
    "# maze window\n",
    "height = 500\n",
    "width = 500\n",
    "sizeQ = '%sx%s+%s+%s' % (height, width, qX, qY)\n",
    "\n",
    "windowQ = tk.Tk()\n",
    "windowQ.title('Q-table')\n",
    "windowQ.geometry(sizeQ)"
   ]
  },
  {
   "cell_type": "markdown",
   "metadata": {},
   "source": [
    "# each window setting"
   ]
  },
  {
   "cell_type": "code",
   "execution_count": 11,
   "metadata": {},
   "outputs": [
    {
     "data": {
      "text/plain": [
       "10"
      ]
     },
     "execution_count": 11,
     "metadata": {},
     "output_type": "execute_result"
    }
   ],
   "source": [
    "tkCanvas = tk.Canvas(windowMaze, bg='white',\n",
    "        height=500, width=500)\n",
    "tkCanvas.pack()\n",
    "\n",
    "for ite in range(1, 5):\n",
    "    tkCanvas.create_line(ite*60, 0, ite*60, 300)\n",
    "for ite in range(1, 5):\n",
    "    tkCanvas.create_line(0, ite*60, 300, ite*60)\n",
    "    \n",
    "center = (30,30)\n",
    "current = tkCanvas.create_oval(center[0]-10, center[1]-10, center[0]+10, center[0]+10, fill='red')  #创建一个圆，填充色为`red`红色\n",
    "# tkCanvas.create_oval(x0+10, y0+10, x1, y1, fill='blue')\n",
    "\n",
    "trapA = (90,150)\n",
    "tkCanvas.create_rectangle(trapA[0]-20, trapA[1]-20, trapA[0]+20, trapA[1]+20, fill='black')\n",
    "# tkCanvas.create_arc(x0+30, y0+30, x1+30, y1+30, start=0, extent=180)  #创建一个扇形\n",
    "# tkCanvas.create_arc(x0+30, y0+30, x1+30, y1+30, start=0, extent=-10)  #创建一个扇形\n",
    "\n",
    "# tkCanvas.create_polygon(0, 0, 0, 100, 100, 100)\n",
    "####################################\n",
    "\n"
   ]
  },
  {
   "cell_type": "code",
   "execution_count": 12,
   "metadata": {
    "collapsed": true
   },
   "outputs": [],
   "source": [
    "windowMain.mainloop()"
   ]
  }
 ],
 "metadata": {
  "kernelspec": {
   "display_name": "Python 3",
   "language": "python",
   "name": "python3"
  },
  "language_info": {
   "codemirror_mode": {
    "name": "ipython",
    "version": 3
   },
   "file_extension": ".py",
   "mimetype": "text/x-python",
   "name": "python",
   "nbconvert_exporter": "python",
   "pygments_lexer": "ipython3",
   "version": "3.6.1"
  }
 },
 "nbformat": 4,
 "nbformat_minor": 2
}
