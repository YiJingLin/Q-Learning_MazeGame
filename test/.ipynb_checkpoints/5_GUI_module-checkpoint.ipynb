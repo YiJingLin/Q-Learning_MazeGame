{
 "cells": [
  {
   "cell_type": "code",
   "execution_count": 1,
   "metadata": {
    "collapsed": true
   },
   "outputs": [],
   "source": [
    "import tkinter as tk"
   ]
  },
  {
   "cell_type": "code",
   "execution_count": 2,
   "metadata": {
    "collapsed": true
   },
   "outputs": [],
   "source": [
    "class Env:\n",
    "    def __init__(self, map_size=(5,5), target=(3,3), target_reward=10,\n",
    "                 fail_list=[(3,2),(2,3)], fail_punishment_list=[-5, -5],\n",
    "                 wall_punishment = -1):\n",
    "        self._MAP_SIZE = map_size\n",
    "        self._WALL_PUNISHMENT = wall_punishment\n",
    "        \n",
    "        self.TARGET = target\n",
    "        self.FAIL_LIST = fail_list\n",
    "        self.REWARD_MAP = self._assign_reward_to_map(target, target_reward,\n",
    "                                               fail_list, fail_punishment_list)\n",
    "        \n",
    "    def _assign_reward_to_map(self, target, target_reward, fail_list, fail_punishment_list):\n",
    "        tmp_map = np.zeros(self._MAP_SIZE, dtype='int')\n",
    "        target = self.TARGET\n",
    "        fail_list = self.FAIL_LIST\n",
    "        \n",
    "        # assign reward when reach the target \n",
    "        tmp_map[target] = target_reward\n",
    "        \n",
    "        # assign failure punishment\n",
    "        for coordinate, punishment in zip(fail_list, fail_punishment_list):\n",
    "            tmp_map[coordinate] = punishment\n",
    "        \n",
    "        return tmp_map\n",
    "    \n",
    "    def take_action(self, state, action):\n",
    "        reward = 0\n",
    "        next_state = state\n",
    "        terminal = False\n",
    "        \n",
    "        if action=='up':\n",
    "            if state[0]==0:\n",
    "                next_state = state # stay in place\n",
    "                reward = self._WALL_PUNISHMENT\n",
    "            else:\n",
    "                next_state = (state[0]-1, state[1])\n",
    "                reward = self.REWARD_MAP[state]\n",
    "        elif action=='down':\n",
    "            if state[0]==self._MAP_SIZE[0]-1:\n",
    "                next_state = state # stay in place\n",
    "                reward = self._WALL_PUNISHMENT\n",
    "            else:\n",
    "                next_state = (state[0]+1, state[1])\n",
    "                reward = self.REWARD_MAP[state]\n",
    "        elif action=='left':\n",
    "            if state[1]==0:\n",
    "                next_state = state # stay in place\n",
    "                reward = self._WALL_PUNISHMENT\n",
    "            else:\n",
    "                next_state = (state[0], state[1]-1)\n",
    "                reward = self.REWARD_MAP[state]\n",
    "        elif action=='right':\n",
    "            if state[1]==self._MAP_SIZE[1]-1:\n",
    "                next_state = state # stay in place\n",
    "                reward = self._WALL_PUNISHMENT\n",
    "            else:\n",
    "                next_state = (state[0], state[1]+1)\n",
    "                reward = self.REWARD_MAP[state]\n",
    "        \n",
    "        # check if terminal\n",
    "        if self.REWARD_MAP[next_state]!=0:\n",
    "            terminal=True\n",
    "            \n",
    "        return next_state, reward, terminal\n",
    "    \n",
    "    \n",
    "    def showEnvInfo(self, next_state, reward, terminal):\n",
    "        print(\"-->{}\".format(next_state),end='')\n",
    "        if terminal:\n",
    "            if self.REWARD_MAP[next_state]>0:\n",
    "                print(\"  >>>win<<<\")\n",
    "            elif self.REWARD_MAP[next_state]<0:\n",
    "                print(\"  >>>fail<<<\")\n",
    "            else:\n",
    "                print(\"(*&)(*({)(something wrong~\")\n",
    "                "
   ]
  },
  {
   "cell_type": "code",
   "execution_count": null,
   "metadata": {
    "collapsed": true
   },
   "outputs": [],
   "source": [
    "class Env_GUI(Env):\n",
    "    def __init__(self, map_size=(5,5), target=(3,3), target_reward=10,\n",
    "                 fail_list=[(3,2),(2,3)], fail_punishment_list=[-5, -5],\n",
    "                 wall_punishment = -1):\n",
    "        super().__init__(map_size=map_size, target=target, target_reward=target_reward,\n",
    "                        fail_list=fail_list, fail_punishment_list= fail_punishment_list,\n",
    "                        wall_punishment)\n",
    "        "
   ]
  }
 ],
 "metadata": {
  "kernelspec": {
   "display_name": "Python 3",
   "language": "python",
   "name": "python3"
  },
  "language_info": {
   "codemirror_mode": {
    "name": "ipython",
    "version": 3
   },
   "file_extension": ".py",
   "mimetype": "text/x-python",
   "name": "python",
   "nbconvert_exporter": "python",
   "pygments_lexer": "ipython3",
   "version": "3.6.1"
  }
 },
 "nbformat": 4,
 "nbformat_minor": 2
}
